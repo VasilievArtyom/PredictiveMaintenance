{
 "cells": [
  {
   "cell_type": "code",
   "execution_count": 1,
   "metadata": {},
   "outputs": [
    {
     "name": "stderr",
     "output_type": "stream",
     "text": [
      "Using TensorFlow backend.\n"
     ]
    }
   ],
   "source": [
    "import math\n",
    "import numpy as np\n",
    "from numpy import *\n",
    "from os import path\n",
    "import os\n",
    "import sys\n",
    "import matplotlib.pyplot as plt\n",
    "\n",
    "import keras\n",
    "from keras.utils import Sequence\n",
    "from keras import backend as K\n",
    "from keras.models import Model\n",
    "from keras.layers import Input, Dense, Embedding, LSTM\n",
    "from keras.optimizers import Adam\n",
    "from keras import optimizers\n",
    "from keras.callbacks import EarlyStopping, ModelCheckpoint, ReduceLROnPlateau\n",
    "from keras import losses\n",
    "from keras.utils import plot_model\n",
    "from tensorflow.python.client import device_lib"
   ]
  },
  {
   "cell_type": "code",
   "execution_count": 2,
   "metadata": {},
   "outputs": [],
   "source": [
    "np.random.seed(0)  # Set a random seed for reproducibility"
   ]
  },
  {
   "cell_type": "code",
   "execution_count": 3,
   "metadata": {},
   "outputs": [],
   "source": [
    "# <--------------------->\n",
    "# Tunable\n",
    "\n",
    "agmntCount = 1\n",
    "blc_id = 0\n",
    "pred_step = 1\n",
    "gpu_id = str(1)\n",
    "\n",
    "rnn_sequence_length = 300\n",
    "cutFromTail = 60\n",
    "cutFromHead = 144\n",
    "max_pred_step = 60\n",
    "# <--------------------->"
   ]
  },
  {
   "cell_type": "code",
   "execution_count": 4,
   "metadata": {},
   "outputs": [
    {
     "name": "stdout",
     "output_type": "stream",
     "text": [
      "[name: \"/device:CPU:0\"\n",
      "device_type: \"CPU\"\n",
      "memory_limit: 268435456\n",
      "locality {\n",
      "}\n",
      "incarnation: 5689295328722328053\n",
      ", name: \"/device:GPU:0\"\n",
      "device_type: \"GPU\"\n",
      "memory_limit: 1810169856\n",
      "locality {\n",
      "  bus_id: 1\n",
      "  links {\n",
      "  }\n",
      "}\n",
      "incarnation: 7483925215774166915\n",
      "physical_device_desc: \"device: 0, name: GeForce GTX 770, pci bus id: 0000:02:00.0, compute capability: 3.0\"\n",
      "]\n"
     ]
    }
   ],
   "source": [
    "os.environ[\"CUDA_DEVICE_ORDER\"] = \"PCI_BUS_ID\"\n",
    "# <--------------------->\n",
    "# Tunable\n",
    "os.environ[\"CUDA_VISIBLE_DEVICES\"] = gpu_id\n",
    "batch_size = 1\n",
    "# <--------------------->\n",
    "print(device_lib.list_local_devices())"
   ]
  },
  {
   "cell_type": "code",
   "execution_count": 5,
   "metadata": {},
   "outputs": [],
   "source": [
    "def read_dtaset_by_index(index):\n",
    "    inpath = \"../data/\"\n",
    "    currentfile = path.join(inpath, \"data_T_{0}.csv\".format(index))\n",
    "    # Read from file\n",
    "    strdatatype = np.dtype([('N', np.int_), ('Mode', np.float_, (5,)),\n",
    "                            ('kalmanT', np.float_, (10,)),\n",
    "                            ('kalmanT_dot', np.float_, (10,)),\n",
    "                            ('rwavT', np.float_, (10,)),\n",
    "                            ('ma13T', np.float_, (10,)),\n",
    "                            ('ma55T', np.float_, (10,)),\n",
    "                            ('ma144T', np.float_, (10,)),\n",
    "                            ('S', np.float_, (10,)),\n",
    "                            ('lfc', np.float_, (10,))])\n",
    "    # N, Mode, kalmanT, kalmanT_dot, rwavT, ma13T, ma55T, ma144T, S, lfc\n",
    "    return np.loadtxt(currentfile, unpack=True, delimiter=';', skiprows=1, dtype=strdatatype)\n"
   ]
  },
  {
   "cell_type": "code",
   "execution_count": 6,
   "metadata": {},
   "outputs": [],
   "source": [
    "# Read unaugmented dataset\n",
    "N, Mode, kalmanT, kalmanT_dot, rwavT, ma13T, ma55T, ma144T, S, lfc = read_dtaset_by_index(0)\n",
    "# Alloc and read agmntCount augmented copies, collect full dataset\n",
    "n_features = 13\n",
    "ds = np.empty((agmntCount + 1, len(kalmanT[:, 0]), n_features))\n",
    "(ds[0, :, 0], ds[0, :, 1], ds[0, :, 2], ds[0, :, 3], ds[0, :, 4],\n",
    "    ds[0, :, 5], ds[0, :, 6], ds[0, :, 7], ds[0, :, 8:13]) = (kalmanT[:, blc_id], kalmanT_dot[:, blc_id],\n",
    "                                                              rwavT[:, blc_id], ma13T[:, blc_id], ma55T[:, blc_id],\n",
    "                                                              ma144T[:, blc_id], S[:, blc_id], lfc[:, blc_id], Mode[:, :])"
   ]
  },
  {
   "cell_type": "code",
   "execution_count": 7,
   "metadata": {},
   "outputs": [],
   "source": [
    "for agmnt_index in range(1, agmntCount + 1):\n",
    "    _N, _Mode, _kalmanT, _kalmanT_dot, _rwavT, _ma13T, _ma55T, _ma144T, _S, _lfc = read_dtaset_by_index(agmnt_index)\n",
    "    (ds[agmnt_index, :, 0], ds[agmnt_index, :, 1], ds[agmnt_index, :, 2], ds[agmnt_index, :, 3], ds[agmnt_index, :, 4],\n",
    "     ds[agmnt_index, :, 5], ds[agmnt_index, :, 6], ds[agmnt_index, :, 7], ds[agmnt_index, :, 8:13]) = (_kalmanT[:, blc_id], _kalmanT_dot[:, blc_id],\n",
    "                                                                                                       _rwavT[:, blc_id], _ma13T[:, blc_id], _ma55T[:, blc_id],\n",
    "                                                                                                       _ma144T[:, blc_id], _S[:, blc_id], _lfc[:, blc_id], _Mode[:, :])"
   ]
  },
  {
   "cell_type": "code",
   "execution_count": 8,
   "metadata": {},
   "outputs": [
    {
     "name": "stdout",
     "output_type": "stream",
     "text": [
      "144 60\n",
      "len_data =  2197\n",
      "len_test =  375\n",
      "len_train =  1822\n"
     ]
    }
   ],
   "source": [
    "# boundaries\n",
    "l_b, r_b = cutFromHead, cutFromTail\n",
    "len_data = len(ds[0, l_b:-r_b, 0])\n",
    "\n",
    "len_test = int(rnn_sequence_length * 1.25)\n",
    "len_train = len_data - len_test\n",
    "print(l_b, r_b)\n",
    "print(\"len_data = \", len_data)\n",
    "print(\"len_test = \", len_test)\n",
    "print(\"len_train = \", len_train)"
   ]
  },
  {
   "cell_type": "code",
   "execution_count": 9,
   "metadata": {},
   "outputs": [
    {
     "name": "stdout",
     "output_type": "stream",
     "text": [
      "ds:  (2, 2401, 13)\n",
      "ds_train:  (2, 1822, 13)\n",
      "ds_test:  (2, 375, 13)\n"
     ]
    }
   ],
   "source": [
    "ds_train = ds[:, l_b:l_b + len_train, :]\n",
    "ds_test = ds[:, -(r_b + len_test):-r_b, :]\n",
    "\n",
    "print(\"ds: \", shape(ds))\n",
    "print(\"ds_train: \", shape(ds_train))\n",
    "print(\"ds_test: \", shape(ds_test))"
   ]
  },
  {
   "cell_type": "code",
   "execution_count": null,
   "metadata": {},
   "outputs": [],
   "source": []
  },
  {
   "cell_type": "code",
   "execution_count": 10,
   "metadata": {},
   "outputs": [],
   "source": [
    "def batch_generator_validation(batch_size, rnn_sequence_length):\n",
    "    while True:\n",
    "        X1_shape = (batch_size, rnn_sequence_length, 13)\n",
    "        X1 = np.zeros(shape=X1_shape, dtype=np.float16)\n",
    "\n",
    "        X2_shape = (batch_size, 13)\n",
    "        X2 = np.zeros(shape=X2_shape, dtype=np.float16)\n",
    "\n",
    "        Y1_shape = (batch_size, 1)\n",
    "        Y1 = np.zeros(shape=Y1_shape, dtype=np.float16)\n",
    "\n",
    "        Y2_shape = (batch_size, 1)\n",
    "        Y2 = np.zeros(shape=Y2_shape, dtype=np.float16)\n",
    "\n",
    "        for i in range(batch_size):\n",
    "            # Get a random start-index.\n",
    "            # This points somewhere into the training-data.\n",
    "            idx = np.random.randint(len_test - (rnn_sequence_length + max_pred_step))\n",
    "            # This points somewhere into the augmented series range.\n",
    "            idaugmnt = np.random.randint(agmntCount)\n",
    "\n",
    "            # Copy the sequences of data starting at this index.\n",
    "            X1[i, :, :] = ds_test[idaugmnt, idx:idx + rnn_sequence_length, :]\n",
    "            X2[i, :] = ds_test[idaugmnt, idx + rnn_sequence_length - 1, :]\n",
    "\n",
    "            Y1[i, 0] = ds_test[idaugmnt, idx + rnn_sequence_length, 0]\n",
    "            Y2[i, 0] = ds_test[idaugmnt, idx + pred_step + rnn_sequence_length - 1, 6]\n",
    "        yield [X1, X2], [Y1, Y2]"
   ]
  },
  {
   "cell_type": "code",
   "execution_count": 11,
   "metadata": {},
   "outputs": [],
   "source": [
    "#generator_traindata = batch_generator_train(batch_size=batch_size, rnn_sequence_length=rnn_sequence_length)\n",
    "generator_validdata = batch_generator_validation(batch_size=batch_size, rnn_sequence_length=rnn_sequence_length)"
   ]
  },
  {
   "cell_type": "code",
   "execution_count": 12,
   "metadata": {},
   "outputs": [
    {
     "name": "stdout",
     "output_type": "stream",
     "text": [
      "[0.]\n"
     ]
    }
   ],
   "source": [
    "[tmpX1, tmpX2], [tmpY1, tmpY2] = next(generator_validdata)\n",
    "print(tmpY2[0])"
   ]
  },
  {
   "cell_type": "code",
   "execution_count": 13,
   "metadata": {},
   "outputs": [
    {
     "name": "stdout",
     "output_type": "stream",
     "text": [
      "steps_per_epoch =  1522\n",
      "validation_steps =  75\n"
     ]
    }
   ],
   "source": [
    "steps_per_epoch = int((len_train - rnn_sequence_length) * agmntCount / batch_size)\n",
    "validation_steps = int((len_test - rnn_sequence_length) * agmntCount / batch_size)\n",
    "print(\"steps_per_epoch = \", steps_per_epoch)\n",
    "print(\"validation_steps = \", validation_steps)\n"
   ]
  },
  {
   "cell_type": "code",
   "execution_count": 14,
   "metadata": {},
   "outputs": [
    {
     "data": {
      "text/plain": [
       "(array([0., 1.]), array([0, 5]), array([ 457, 1365]))"
      ]
     },
     "execution_count": 14,
     "metadata": {},
     "output_type": "execute_result"
    }
   ],
   "source": [
    "np.unique(ds_train[0, :, 6], return_counts=True, return_index=True)\n"
   ]
  },
  {
   "cell_type": "code",
   "execution_count": 15,
   "metadata": {},
   "outputs": [
    {
     "data": {
      "text/plain": [
       "(array([0., 1.]), array([24,  0]), array([ 88, 287]))"
      ]
     },
     "execution_count": 15,
     "metadata": {},
     "output_type": "execute_result"
    }
   ],
   "source": [
    "np.unique(ds_test[0, :, 6], return_counts=True, return_index=True)"
   ]
  },
  {
   "cell_type": "code",
   "execution_count": 16,
   "metadata": {},
   "outputs": [],
   "source": [
    "l_b, r_b = cutFromHead + rnn_sequence_length , cutFromTail + max_pred_step\n",
    "#targets = S[l_b:-r_b, blc_id]\n",
    "targets = ds[0, l_b:-r_b, 6]"
   ]
  },
  {
   "cell_type": "code",
   "execution_count": 17,
   "metadata": {},
   "outputs": [
    {
     "data": {
      "text/plain": [
       "(array([0., 1.]), array([ 441, 1396]))"
      ]
     },
     "execution_count": 17,
     "metadata": {},
     "output_type": "execute_result"
    }
   ],
   "source": [
    "np.unique(targets, return_counts=True)"
   ]
  },
  {
   "cell_type": "code",
   "execution_count": 18,
   "metadata": {},
   "outputs": [],
   "source": [
    "def collect_indexes_by_target_value():\n",
    "    vals, counts = np.unique(targets, return_counts=True)\n",
    "    target_0_indexes = np.zeros(counts[0], dtype=int)\n",
    "    target_1_indexes = np.zeros(counts[1], dtype=int)\n",
    "    tmp_i, tmp_j = 0, 0\n",
    "    for k in range(0, len(targets)):\n",
    "        if (int(targets[k]) == int(vals[0])):\n",
    "            target_0_indexes[tmp_i] = k\n",
    "            tmp_i += 1\n",
    "        elif (int(targets[k]) == int(vals[1])):\n",
    "            target_1_indexes[tmp_j] = k\n",
    "            tmp_j += 1\n",
    "    return target_0_indexes, target_1_indexes"
   ]
  },
  {
   "cell_type": "code",
   "execution_count": 19,
   "metadata": {},
   "outputs": [],
   "source": [
    "target_0_indexes, target_1_indexes = collect_indexes_by_target_value()\n",
    "np.random.shuffle(target_0_indexes)\n",
    "np.random.shuffle(target_1_indexes)"
   ]
  },
  {
   "cell_type": "code",
   "execution_count": 20,
   "metadata": {},
   "outputs": [
    {
     "name": "stdout",
     "output_type": "stream",
     "text": [
      "targets:  (1837,)\n",
      "target_0_indexes:  (441,)\n",
      "target_1_indexes:  (1396,)\n"
     ]
    }
   ],
   "source": [
    "print(\"targets: \", shape(targets))\n",
    "print(\"target_0_indexes: \", shape(target_0_indexes))\n",
    "print(\"target_1_indexes: \", shape(target_1_indexes))"
   ]
  },
  {
   "cell_type": "code",
   "execution_count": 21,
   "metadata": {},
   "outputs": [],
   "source": [
    "inbalance_f = int(np.round((len(target_1_indexes) / len(target_0_indexes))))"
   ]
  },
  {
   "cell_type": "code",
   "execution_count": 22,
   "metadata": {},
   "outputs": [
    {
     "data": {
      "text/plain": [
       "3"
      ]
     },
     "execution_count": 22,
     "metadata": {},
     "output_type": "execute_result"
    }
   ],
   "source": [
    "inbalance_f"
   ]
  },
  {
   "cell_type": "code",
   "execution_count": 23,
   "metadata": {},
   "outputs": [],
   "source": [
    "#target_0_indexes = np.tile(target_0_indexes, inbalance_f)"
   ]
  },
  {
   "cell_type": "code",
   "execution_count": 24,
   "metadata": {},
   "outputs": [
    {
     "name": "stdout",
     "output_type": "stream",
     "text": [
      "targets:  (1837,)\n",
      "target_0_indexes:  (441,)\n",
      "target_1_indexes:  (1396,)\n"
     ]
    }
   ],
   "source": [
    "print(\"targets: \", shape(targets))\n",
    "print(\"target_0_indexes: \", shape(target_0_indexes))\n",
    "print(\"target_1_indexes: \", shape(target_1_indexes))"
   ]
  },
  {
   "cell_type": "code",
   "execution_count": 25,
   "metadata": {},
   "outputs": [],
   "source": [
    "train_test_split = 0.8\n",
    "target_0_indexes_train_len = int(train_test_split * len(target_0_indexes))\n",
    "target_0_indexes_train = target_0_indexes[0:target_0_indexes_train_len]\n",
    "target_0_indexes_test = target_0_indexes[target_0_indexes_train_len:]\n",
    "\n",
    "target_1_indexes_train_len = int(train_test_split * len(target_1_indexes))\n",
    "target_1_indexes_train = target_1_indexes[0:target_1_indexes_train_len]\n",
    "target_1_indexes_test = target_1_indexes[target_1_indexes_train_len:]"
   ]
  },
  {
   "cell_type": "code",
   "execution_count": 26,
   "metadata": {
    "scrolled": false
   },
   "outputs": [
    {
     "name": "stdout",
     "output_type": "stream",
     "text": [
      "target_0_indexes_train:  (352,)\n",
      "target_0_indexes_test:  (89,)\n",
      "target_1_indexes_train:  (1116,)\n",
      "target_1_indexes_test:  (280,)\n"
     ]
    }
   ],
   "source": [
    "print(\"target_0_indexes_train: \", shape(target_0_indexes_train))\n",
    "print(\"target_0_indexes_test: \", shape(target_0_indexes_test))\n",
    "\n",
    "print(\"target_1_indexes_train: \", shape(target_1_indexes_train))\n",
    "print(\"target_1_indexes_test: \", shape(target_1_indexes_test))"
   ]
  },
  {
   "cell_type": "code",
   "execution_count": 27,
   "metadata": {},
   "outputs": [],
   "source": [
    "indexes_train = np.concatenate((target_0_indexes_train, target_1_indexes_train), axis=0)\n",
    "indexes_test = np.concatenate((target_0_indexes_test, target_1_indexes_test), axis=0)\n",
    "#indexes_train = target_0_indexes_train\n",
    "#indexes_test = target_1_indexes_test\n",
    "np.random.shuffle(indexes_train)\n",
    "np.random.shuffle(indexes_test)"
   ]
  },
  {
   "cell_type": "code",
   "execution_count": 28,
   "metadata": {},
   "outputs": [
    {
     "name": "stdout",
     "output_type": "stream",
     "text": [
      "indexes_train:  (1468,)\n",
      "indexes_test:  (369,)\n",
      "indexes_train:  [ 997 1816 1508 ... 1747  964 1300]\n",
      "indexes_test:  [ 337 1385 1401 1167  728  990  300  459  144  489  830  824  181  155\n",
      " 1585 1408  896  361  433 1111  537 1654  491 1516  187 1354  773 1110\n",
      "  329   28  680 1246 1084  610  428 1362 1445 1199 1540  927  714 1522\n",
      " 1781 1495  479  838 1551 1235  528 1656  984  236 1611 1087 1796 1464\n",
      "  493  269  383  246 1527   50 1328  942  393  638  783 1648 1184   99\n",
      "  839 1641  744 1315 1759  855  785  745 1651 1674  840  324  198  851\n",
      " 1190  335 1567  791  891 1721   72  582  174 1091 1629  663  323  520\n",
      "  206 1707 1569  709 1141  829  809 1617 1222 1836 1584 1530 1202 1738\n",
      "  171  241  265 1647 1777  524  364 1592   29  900 1623 1026 1442  802\n",
      "  458  127  442 1031 1625  162  579  285 1459 1535  333 1375  849 1701\n",
      "  988  923  659  769  499 1204  238 1339 1216  925 1521 1798 1218  503\n",
      "  394  484  735  517 1205 1264 1106  143 1369 1801 1321 1102   34 1407\n",
      "  549  343  360  426  483 1367  194  405  781 1376  245 1386  995  811\n",
      " 1136  576  464  308  451  124  639 1673 1448  738 1081  136  907 1712\n",
      "  947 1130  656 1525 1763  106  102  312 1517 1564  103  422 1001 1588\n",
      "  977  211 1537  556  133  848  147  607 1007 1700 1723 1466  515 1765\n",
      "  667   40  959 1619  842  547   96 1224  552   20   11 1076 1749 1681\n",
      "  664 1456  432 1646  487  921 1320  852 1405 1477 1792 1571  975  309\n",
      "  970  151 1008  244  588  295  569 1114  741  166  225  161 1307  297\n",
      "  469 1666 1458  402 1591  898 1770 1099   68 1520  385 1440 1484 1436\n",
      "  847 1061  557  631 1105 1553  770  814  640  372 1793  801  353  949\n",
      "  792   36  251    8 1824 1211 1753 1657 1090  572 1161  407 1155  803\n",
      " 1225 1497  389  590  819  926  707 1144  108 1719 1020  780 1373 1534\n",
      " 1069 1271 1088 1206  992 1675 1504 1034 1237 1171  271  322  788 1123\n",
      " 1394 1109  958  457 1151 1599 1725  543  239 1728 1425  918 1152 1422\n",
      "  821  191  910  138  134 1615  575 1397 1811 1686  532  435 1633 1627\n",
      "  253  976 1563 1124  917]\n"
     ]
    }
   ],
   "source": [
    "print(\"indexes_train: \", shape(indexes_train))\n",
    "print(\"indexes_test: \", shape(indexes_test))\n",
    "\n",
    "print(\"indexes_train: \", indexes_train)\n",
    "print(\"indexes_test: \", indexes_test)"
   ]
  },
  {
   "cell_type": "code",
   "execution_count": 29,
   "metadata": {},
   "outputs": [
    {
     "name": "stdout",
     "output_type": "stream",
     "text": [
      "indexes_train max:  1835\n",
      "indexes_train min:  0\n",
      "indexes_test max:  1836\n",
      "indexes_test min:  8\n"
     ]
    }
   ],
   "source": [
    "print(\"indexes_train max: \", np.amax(indexes_train))\n",
    "print(\"indexes_train min: \", np.amin(indexes_train))\n",
    "\n",
    "print(\"indexes_test max: \", np.amax(indexes_test))\n",
    "print(\"indexes_test min: \", np.amin(indexes_test))"
   ]
  },
  {
   "cell_type": "code",
   "execution_count": 30,
   "metadata": {},
   "outputs": [],
   "source": [
    "def index_generator(indexes):\n",
    "    while True:\n",
    "        for j in indexes:\n",
    "            yield j"
   ]
  },
  {
   "cell_type": "code",
   "execution_count": 31,
   "metadata": {},
   "outputs": [],
   "source": [
    "train_index = index_generator(indexes = indexes_train)\n",
    "test_index = index_generator(indexes = indexes_test)"
   ]
  },
  {
   "cell_type": "code",
   "execution_count": 32,
   "metadata": {},
   "outputs": [],
   "source": [
    "def batch_generator_train(batch_size, rnn_sequence_length):\n",
    "    while True:\n",
    "        X1_shape = (batch_size, rnn_sequence_length, 13)\n",
    "        X1 = np.zeros(shape=X1_shape, dtype=np.float16)\n",
    "\n",
    "        X2_shape = (batch_size, 13)\n",
    "        X2 = np.zeros(shape=X2_shape, dtype=np.float16)\n",
    "\n",
    "        Y1_shape = (batch_size, 1)\n",
    "        Y1 = np.zeros(shape=Y1_shape, dtype=np.float16)\n",
    "\n",
    "        Y2_shape = (batch_size, 1)\n",
    "        Y2 = np.zeros(shape=Y2_shape, dtype=np.float16)\n",
    "\n",
    "        for i in range(batch_size):\n",
    "            # Get a random start-index.\n",
    "            # This points somewhere into the training-data.\n",
    "            index = next(train_index)\n",
    "            l_b = cutFromHead + rnn_sequence_length\n",
    "            idx = index + l_b - pred_step\n",
    "            # This points somewhere into the augmented series range.\n",
    "            idaugmnt = np.random.randint(agmntCount)\n",
    "\n",
    "            # Copy the sequences of data starting at this index.\n",
    "            X1[i, :, :] = ds[idaugmnt, idx - rnn_sequence_length + 1 : idx + 1, :]\n",
    "            X2[i, :]    = ds[idaugmnt, idx, :]\n",
    "\n",
    "            Y1[i, 0] = ds[0, idx, 0]\n",
    "            Y2[i, 0] = ds[0, idx + pred_step, 6]\n",
    "        yield [X1, X2], [Y1, Y2]"
   ]
  },
  {
   "cell_type": "code",
   "execution_count": 33,
   "metadata": {},
   "outputs": [],
   "source": [
    "generator_traindata = batch_generator_train(batch_size=batch_size, rnn_sequence_length=rnn_sequence_length)"
   ]
  },
  {
   "cell_type": "code",
   "execution_count": 34,
   "metadata": {},
   "outputs": [
    {
     "name": "stdout",
     "output_type": "stream",
     "text": [
      "[-0.1597  -0.07324 -0.2874  -0.4124  -0.695   -0.1755 ]\n",
      "[1.]\n"
     ]
    }
   ],
   "source": [
    "[tmpX1, tmpX2], [tmpY1, tmpY2] = next(generator_traindata)\n",
    "print(tmpX2[0, 0:6])\n",
    "print(tmpY2[0])"
   ]
  },
  {
   "cell_type": "code",
   "execution_count": null,
   "metadata": {},
   "outputs": [],
   "source": []
  },
  {
   "cell_type": "code",
   "execution_count": null,
   "metadata": {},
   "outputs": [],
   "source": []
  }
 ],
 "metadata": {
  "kernelspec": {
   "display_name": "Python 3",
   "language": "python",
   "name": "python3"
  },
  "language_info": {
   "codemirror_mode": {
    "name": "ipython",
    "version": 3
   },
   "file_extension": ".py",
   "mimetype": "text/x-python",
   "name": "python",
   "nbconvert_exporter": "python",
   "pygments_lexer": "ipython3",
   "version": "3.7.6"
  }
 },
 "nbformat": 4,
 "nbformat_minor": 4
}
