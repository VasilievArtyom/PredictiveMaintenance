{
 "cells": [
  {
   "cell_type": "code",
   "execution_count": 1,
   "metadata": {},
   "outputs": [
    {
     "name": "stderr",
     "output_type": "stream",
     "text": [
      "Using TensorFlow backend.\n"
     ]
    }
   ],
   "source": [
    "%matplotlib inline\n",
    "import math\n",
    "import numpy as np\n",
    "from numpy import *\n",
    "from scipy.optimize import curve_fit\n",
    "from scipy import signal\n",
    "from os import path\n",
    "import matplotlib.pyplot as plt\n",
    "\n",
    "from keras.models import Sequential\n",
    "from keras.layers import Input, Dense, GRU, Embedding, Dense, Activation, Dropout, LSTM\n",
    "from keras.optimizers import Adam\n",
    "from keras import optimizers\n",
    "from keras.callbacks import EarlyStopping, ModelCheckpoint, TensorBoard, ReduceLROnPlateau\n"
   ]
  },
  {
   "cell_type": "code",
   "execution_count": 2,
   "metadata": {},
   "outputs": [],
   "source": [
    "plt.rc('text', usetex=True)\n",
    "\n",
    "outpath = \"../../../plots/temperatures\"\n",
    "inpath = \"../../../\"\n",
    "\n",
    "currentfile = \"Imitator_2_2400.csv\"\n",
    "\n",
    "# Read from file\n",
    "strdatatype = np.dtype([('N', np.int_, (2,)), ('Time_Count', np.int_ ), ('Mode', np.int_ ),\n",
    "                        ('T', np.float_, (10,)), ('S', np.bool_, (10,)), ('System_State', np.bool_ )])\n",
    "N, Time_Count, Mode, T, S, System_State = np.loadtxt(path.join(inpath, currentfile), \n",
    "                                                     unpack=True, delimiter=';', skiprows=1, dtype=strdatatype)"
   ]
  },
  {
   "cell_type": "code",
   "execution_count": 3,
   "metadata": {},
   "outputs": [],
   "source": [
    "max_possible_model_temperature = 15.0\n",
    "min_possible_model_temperature = 70.0\n",
    "def scale_T(_T):\n",
    "    return (_T - min_possible_model_temperature) / (max_possible_model_temperature - min_possible_model_temperature)\n",
    "\n",
    "def unscale_T(_T):\n",
    "    return (_T) * (max_possible_model_temperature - min_possible_model_temperature) + min_possible_model_temperature"
   ]
  },
  {
   "cell_type": "code",
   "execution_count": 4,
   "metadata": {},
   "outputs": [],
   "source": [
    "outputBlockId=9"
   ]
  },
  {
   "cell_type": "code",
   "execution_count": 5,
   "metadata": {},
   "outputs": [],
   "source": [
    "sT = scale_T(T)"
   ]
  },
  {
   "cell_type": "code",
   "execution_count": 6,
   "metadata": {},
   "outputs": [],
   "source": [
    "delta = np.amin(np.abs(sT[:-2, :] - sT[1:-1, :])) "
   ]
  },
  {
   "cell_type": "code",
   "execution_count": 7,
   "metadata": {},
   "outputs": [
    {
     "data": {
      "text/plain": [
       "2.1317509536489254e-06"
      ]
     },
     "execution_count": 7,
     "metadata": {},
     "output_type": "execute_result"
    }
   ],
   "source": [
    "delta"
   ]
  },
  {
   "cell_type": "code",
   "execution_count": 8,
   "metadata": {},
   "outputs": [],
   "source": [
    "#data augmintation -- 50000 slightly tuned copies of T\n",
    "agmntCount=50000\n",
    "agmntdT=np.zeros((agmntCount, np.size(sT[:,0]), np.size(sT[0,:])))\n",
    "agmntdT[0,:,:] = sT\n",
    "np.random.seed(0)\n",
    "mu, sigma = 0, delta*10\n",
    "for i in range(1, agmntCount):\n",
    "    agmntdT[i] = agmntdT[0] + np.random.normal(mu, sigma, (np.size(sT[:,0]), np.size(sT[0,:])))"
   ]
  },
  {
   "cell_type": "code",
   "execution_count": 9,
   "metadata": {},
   "outputs": [
    {
     "data": {
      "text/plain": [
       "(50000, 2401, 10)"
      ]
     },
     "execution_count": 9,
     "metadata": {},
     "output_type": "execute_result"
    }
   ],
   "source": [
    "agmntdT.shape"
   ]
  },
  {
   "cell_type": "code",
   "execution_count": 10,
   "metadata": {},
   "outputs": [],
   "source": [
    "predictSteps = 1"
   ]
  },
  {
   "cell_type": "code",
   "execution_count": 11,
   "metadata": {},
   "outputs": [],
   "source": [
    "#Keep dataset tail for validate prediction quality\n",
    "cutFromTail = 150\n",
    "#In order to have shifted and unshifted series with same shape\n",
    "t = cutFromTail + predictSteps"
   ]
  },
  {
   "cell_type": "code",
   "execution_count": 12,
   "metadata": {},
   "outputs": [],
   "source": [
    "inData = np.zeros((agmntCount, np.size(sT[:-t,0]), np.size(sT[0,:]) + 1))\n",
    "for i in range(0, agmntCount):\n",
    "    inData[i,:,0] = Mode[:-t] / np.amax(Mode[:-t])\n",
    "    inData[i,:,1:]= agmntdT[i,:-t,:]"
   ]
  },
  {
   "cell_type": "code",
   "execution_count": 13,
   "metadata": {},
   "outputs": [
    {
     "data": {
      "text/plain": [
       "(50000, 2250, 11)"
      ]
     },
     "execution_count": 13,
     "metadata": {},
     "output_type": "execute_result"
    }
   ],
   "source": [
    "inData.shape"
   ]
  },
  {
   "cell_type": "code",
   "execution_count": 14,
   "metadata": {},
   "outputs": [],
   "source": [
    "outData = np.expand_dims(agmntdT[:,predictSteps:-cutFromTail,outputBlockId], axis=2) "
   ]
  },
  {
   "cell_type": "code",
   "execution_count": 15,
   "metadata": {},
   "outputs": [
    {
     "data": {
      "text/plain": [
       "(50000, 2250, 1)"
      ]
     },
     "execution_count": 15,
     "metadata": {},
     "output_type": "execute_result"
    }
   ],
   "source": [
    "outData.shape"
   ]
  },
  {
   "cell_type": "code",
   "execution_count": 16,
   "metadata": {},
   "outputs": [
    {
     "data": {
      "text/plain": [
       "2250"
      ]
     },
     "execution_count": 16,
     "metadata": {},
     "output_type": "execute_result"
    }
   ],
   "source": [
    "num_data = len(inData[0,:,0])\n",
    "num_data"
   ]
  },
  {
   "cell_type": "code",
   "execution_count": 17,
   "metadata": {},
   "outputs": [],
   "source": [
    "train_split = 0.7"
   ]
  },
  {
   "cell_type": "code",
   "execution_count": 18,
   "metadata": {},
   "outputs": [
    {
     "data": {
      "text/plain": [
       "1575"
      ]
     },
     "execution_count": 18,
     "metadata": {},
     "output_type": "execute_result"
    }
   ],
   "source": [
    "num_train = int(train_split * num_data)\n",
    "num_train"
   ]
  },
  {
   "cell_type": "code",
   "execution_count": 19,
   "metadata": {},
   "outputs": [
    {
     "data": {
      "text/plain": [
       "675"
      ]
     },
     "execution_count": 19,
     "metadata": {},
     "output_type": "execute_result"
    }
   ],
   "source": [
    "num_test = num_data - num_train\n",
    "num_test"
   ]
  },
  {
   "cell_type": "code",
   "execution_count": 20,
   "metadata": {},
   "outputs": [
    {
     "data": {
      "text/plain": [
       "2250"
      ]
     },
     "execution_count": 20,
     "metadata": {},
     "output_type": "execute_result"
    }
   ],
   "source": [
    "inData_train = inData[:, 0:num_train, :]\n",
    "inData_test = inData[:, num_train:, :]\n",
    "len(inData_train[0,:,0]) + len(inData_test[0,:,0])"
   ]
  },
  {
   "cell_type": "code",
   "execution_count": 21,
   "metadata": {},
   "outputs": [
    {
     "data": {
      "text/plain": [
       "2250"
      ]
     },
     "execution_count": 21,
     "metadata": {},
     "output_type": "execute_result"
    }
   ],
   "source": [
    "outData_train = outData[:, 0:num_train, :]\n",
    "outData_test = outData[:, num_train:, :]\n",
    "len(outData_train[0,:,0]) + len(outData_test[0,:,0])"
   ]
  },
  {
   "cell_type": "code",
   "execution_count": 22,
   "metadata": {},
   "outputs": [
    {
     "data": {
      "text/plain": [
       "11"
      ]
     },
     "execution_count": 22,
     "metadata": {},
     "output_type": "execute_result"
    }
   ],
   "source": [
    "num_inData_signals = inData.shape[2]\n",
    "num_inData_signals"
   ]
  },
  {
   "cell_type": "code",
   "execution_count": 23,
   "metadata": {},
   "outputs": [
    {
     "data": {
      "text/plain": [
       "1"
      ]
     },
     "execution_count": 23,
     "metadata": {},
     "output_type": "execute_result"
    }
   ],
   "source": [
    "num_outData_signals = outData.shape[2]\n",
    "num_outData_signals"
   ]
  },
  {
   "cell_type": "code",
   "execution_count": 24,
   "metadata": {},
   "outputs": [
    {
     "name": "stdout",
     "output_type": "stream",
     "text": [
      "[name: \"/device:CPU:0\"\n",
      "device_type: \"CPU\"\n",
      "memory_limit: 268435456\n",
      "locality {\n",
      "}\n",
      "incarnation: 16394523761444505654\n",
      ", name: \"/device:GPU:0\"\n",
      "device_type: \"GPU\"\n",
      "memory_limit: 3478323200\n",
      "locality {\n",
      "  bus_id: 1\n",
      "  links {\n",
      "  }\n",
      "}\n",
      "incarnation: 406218030692922548\n",
      "physical_device_desc: \"device: 0, name: GeForce GTX 770, pci bus id: 0000:01:00.0, compute capability: 3.0\"\n",
      "]\n"
     ]
    }
   ],
   "source": [
    "from tensorflow.python.client import device_lib\n",
    "print(device_lib.list_local_devices())"
   ]
  },
  {
   "cell_type": "code",
   "execution_count": 25,
   "metadata": {},
   "outputs": [],
   "source": [
    "def batch_generator(batch_size, sequence_length):\n",
    "    \"\"\"\n",
    "    Generator function for creating random batches of training-data.\n",
    "    \"\"\"\n",
    "    # Infinite loop.\n",
    "    while True:\n",
    "        # Allocate a new array for the batch of input-signals.\n",
    "        in_shape = (batch_size, sequence_length, num_inData_signals)\n",
    "        in_batch = np.zeros(shape=in_shape, dtype=np.float16)\n",
    "\n",
    "        # Allocate a new array for the batch of output-signals.\n",
    "        out_shape = (batch_size, sequence_length, num_outData_signals)\n",
    "        out_batch = np.zeros(shape=out_shape, dtype=np.float16)\n",
    "\n",
    "        # Fill the batch with random sequences of data.\n",
    "        for i in range(batch_size):\n",
    "            # Get a random start-index.\n",
    "            # This points somewhere into the training-data.\n",
    "            idx = np.random.randint(num_train - sequence_length)\n",
    "            # This points somewhere into the augmented series range.\n",
    "            idaugmnt = np.random.randint(agmntCount)\n",
    "            \n",
    "            # Copy the sequences of data starting at this index.\n",
    "            in_batch[i] = inData_train[idaugmnt, idx:idx+sequence_length,:]\n",
    "            out_batch[i] = outData_train[idaugmnt, idx:idx+sequence_length,:]\n",
    "        \n",
    "        yield (in_batch, out_batch)"
   ]
  },
  {
   "cell_type": "code",
   "execution_count": 26,
   "metadata": {},
   "outputs": [],
   "source": [
    "batch_size = 512"
   ]
  },
  {
   "cell_type": "code",
   "execution_count": 27,
   "metadata": {},
   "outputs": [],
   "source": [
    "#sequence_length=576\n",
    "sequence_length=240"
   ]
  },
  {
   "cell_type": "code",
   "execution_count": 28,
   "metadata": {},
   "outputs": [],
   "source": [
    "generator = batch_generator(batch_size=batch_size,\n",
    "                            sequence_length=sequence_length)"
   ]
  },
  {
   "cell_type": "code",
   "execution_count": 29,
   "metadata": {},
   "outputs": [],
   "source": [
    "in_batch, out_batch = next(generator)"
   ]
  },
  {
   "cell_type": "code",
   "execution_count": 30,
   "metadata": {},
   "outputs": [
    {
     "name": "stdout",
     "output_type": "stream",
     "text": [
      "(512, 240, 11)\n",
      "(512, 240, 1)\n"
     ]
    }
   ],
   "source": [
    "print(in_batch.shape)\n",
    "print(out_batch.shape)"
   ]
  },
  {
   "cell_type": "code",
   "execution_count": 31,
   "metadata": {},
   "outputs": [
    {
     "data": {
      "text/plain": [
       "<matplotlib.collections.PathCollection at 0x7fd81fad7f50>"
      ]
     },
     "execution_count": 31,
     "metadata": {},
     "output_type": "execute_result"
    },
    {
     "data": {
      "image/png": "[encoded data removed]",
      "text/plain": [
       "<Figure size 432x288 with 1 Axes>"
      ]
     },
     "metadata": {
      "needs_background": "light"
     },
     "output_type": "display_data"
    }
   ],
   "source": [
    "batch = 0   # First sequence in the batch.\n",
    "signal = 1  # First signal from the 21 input-signals.\n",
    "seq = in_batch[batch,predictSteps:predictSteps+50, signal]\n",
    "plt.scatter(np.arange(0, len(seq)), seq)"
   ]
  },
  {
   "cell_type": "code",
   "execution_count": 32,
   "metadata": {},
   "outputs": [
    {
     "data": {
      "text/plain": [
       "<matplotlib.collections.PathCollection at 0x7fd81faa7310>"
      ]
     },
     "execution_count": 32,
     "metadata": {},
     "output_type": "execute_result"
    },
    {
     "data": {
      "image/png": "[encoded data removed]",
      "text/plain": [
       "<Figure size 432x288 with 1 Axes>"
      ]
     },
     "metadata": {
      "needs_background": "light"
     },
     "output_type": "display_data"
    }
   ],
   "source": [
    "seq = out_batch[batch, 0:50, 0]\n",
    "plt.scatter(np.arange(0, len(seq)),seq)"
   ]
  },
  {
   "cell_type": "code",
   "execution_count": 33,
   "metadata": {},
   "outputs": [],
   "source": [
    "validation_data = (np.expand_dims(inData_test[0,:,:], axis=0),\n",
    "                   np.expand_dims(outData_test[0,:,:], axis=0))"
   ]
  },
  {
   "cell_type": "code",
   "execution_count": 34,
   "metadata": {},
   "outputs": [],
   "source": [
    "model = Sequential()"
   ]
  },
  {
   "cell_type": "code",
   "execution_count": 35,
   "metadata": {},
   "outputs": [],
   "source": [
    "model.add(LSTM(75, return_sequences=True, input_shape=(None, num_inData_signals,)))\n",
    "model.add(LSTM(48, return_sequences=True))\n",
    "#model.add(LSTM(12, return_sequences=True))\n",
    "#model.add(LSTM(3, return_sequences=True))\n",
    "model.add(Dense(1, activation = \"linear\"))"
   ]
  },
  {
   "cell_type": "code",
   "execution_count": 36,
   "metadata": {},
   "outputs": [],
   "source": [
    "warmup_steps = 1\n",
    "import keras.backend as K\n",
    "def loss_mse_warmup(y_true, y_pred): \n",
    "    return K.mean(K.square(y_pred[:, warmup_steps:, :]-y_true[:, warmup_steps:, :]))"
   ]
  },
  {
   "cell_type": "code",
   "execution_count": 37,
   "metadata": {},
   "outputs": [],
   "source": [
    "#model.compile(Adam(learning_rate=1e-3), loss='mean_absolute_error')\n",
    "model.compile(Adam(learning_rate=1e-3), loss=loss_mse_warmup)"
   ]
  },
  {
   "cell_type": "code",
   "execution_count": 38,
   "metadata": {
    "scrolled": true
   },
   "outputs": [
    {
     "name": "stdout",
     "output_type": "stream",
     "text": [
      "Model: \"sequential_1\"\n",
      "_________________________________________________________________\n",
      "Layer (type)                 Output Shape              Param #   \n",
      "=================================================================\n",
      "lstm_1 (LSTM)                (None, None, 75)          26100     \n",
      "_________________________________________________________________\n",
      "lstm_2 (LSTM)                (None, None, 48)          23808     \n",
      "_________________________________________________________________\n",
      "dense_1 (Dense)              (None, None, 1)           49        \n",
      "=================================================================\n",
      "Total params: 49,957\n",
      "Trainable params: 49,957\n",
      "Non-trainable params: 0\n",
      "_________________________________________________________________\n"
     ]
    }
   ],
   "source": [
    "model.summary()"
   ]
  },
  {
   "cell_type": "code",
   "execution_count": 39,
   "metadata": {},
   "outputs": [],
   "source": [
    "path_checkpoint = str(outputBlockId)+'_checkpoint_test.keras'\n",
    "callback_checkpoint = ModelCheckpoint(filepath=path_checkpoint,\n",
    "                                      monitor='val_loss',\n",
    "                                      verbose=1,\n",
    "                                      save_weights_only=True,\n",
    "                                      save_best_only=True)"
   ]
  },
  {
   "cell_type": "code",
   "execution_count": 40,
   "metadata": {},
   "outputs": [],
   "source": [
    "callback_early_stopping = EarlyStopping(monitor='val_loss',\n",
    "                                        patience=5, verbose=1)"
   ]
  },
  {
   "cell_type": "code",
   "execution_count": 41,
   "metadata": {},
   "outputs": [],
   "source": [
    "callback_reduce_lr = ReduceLROnPlateau(monitor='val_loss',\n",
    "                                       factor=0.1,\n",
    "                                       min_lr=1e-4,\n",
    "                                       patience=0,\n",
    "                                       verbose=1)"
   ]
  },
  {
   "cell_type": "code",
   "execution_count": 42,
   "metadata": {},
   "outputs": [],
   "source": [
    "callbacks = [callback_early_stopping,\n",
    "            callback_checkpoint,\n",
    "            callback_reduce_lr]"
   ]
  },
  {
   "cell_type": "code",
   "execution_count": 43,
   "metadata": {
    "scrolled": false
   },
   "outputs": [
    {
     "name": "stdout",
     "output_type": "stream",
     "text": [
      "Epoch 1/1000\n",
      "50/50 [==============================] - 18s 368ms/step - loss: 0.0279 - val_loss: 0.0155\n",
      "\n",
      "Epoch 00001: val_loss improved from inf to 0.01547, saving model to 9_checkpoint_test.keras\n",
      "Epoch 2/1000\n",
      "50/50 [==============================] - 18s 353ms/step - loss: 0.0084 - val_loss: 0.0080\n",
      "\n",
      "Epoch 00002: val_loss improved from 0.01547 to 0.00797, saving model to 9_checkpoint_test.keras\n",
      "Epoch 3/1000\n",
      "50/50 [==============================] - 18s 359ms/step - loss: 0.0052 - val_loss: 0.0053\n",
      "\n",
      "Epoch 00003: val_loss improved from 0.00797 to 0.00533, saving model to 9_checkpoint_test.keras\n",
      "Epoch 4/1000\n",
      "50/50 [==============================] - 17s 350ms/step - loss: 0.0036 - val_loss: 0.0040\n",
      "\n",
      "Epoch 00004: val_loss improved from 0.00533 to 0.00399, saving model to 9_checkpoint_test.keras\n",
      "Epoch 5/1000\n",
      "50/50 [==============================] - 17s 349ms/step - loss: 0.0029 - val_loss: 0.0035\n",
      "\n",
      "Epoch 00005: val_loss improved from 0.00399 to 0.00350, saving model to 9_checkpoint_test.keras\n",
      "Epoch 6/1000\n",
      "50/50 [==============================] - 17s 350ms/step - loss: 0.0026 - val_loss: 0.0029\n",
      "\n",
      "Epoch 00006: val_loss improved from 0.00350 to 0.00293, saving model to 9_checkpoint_test.keras\n",
      "Epoch 7/1000\n",
      "50/50 [==============================] - 18s 350ms/step - loss: 0.0024 - val_loss: 0.0029\n",
      "\n",
      "Epoch 00007: val_loss improved from 0.00293 to 0.00290, saving model to 9_checkpoint_test.keras\n",
      "\n",
      "Epoch 00007: ReduceLROnPlateau reducing learning rate to 0.00010000000474974513.\n",
      "Epoch 8/1000\n",
      "50/50 [==============================] - 17s 350ms/step - loss: 0.0022 - val_loss: 0.0028\n",
      "\n",
      "Epoch 00008: val_loss improved from 0.00290 to 0.00277, saving model to 9_checkpoint_test.keras\n",
      "Epoch 9/1000\n",
      "50/50 [==============================] - 17s 349ms/step - loss: 0.0022 - val_loss: 0.0028\n",
      "\n",
      "Epoch 00009: val_loss improved from 0.00277 to 0.00276, saving model to 9_checkpoint_test.keras\n",
      "\n",
      "Epoch 00009: ReduceLROnPlateau reducing learning rate to 0.0001.\n",
      "Epoch 10/1000\n",
      "50/50 [==============================] - 18s 350ms/step - loss: 0.0022 - val_loss: 0.0027\n",
      "\n",
      "Epoch 00010: val_loss improved from 0.00276 to 0.00275, saving model to 9_checkpoint_test.keras\n",
      "Epoch 11/1000\n",
      "50/50 [==============================] - 17s 350ms/step - loss: 0.0022 - val_loss: 0.0027\n",
      "\n",
      "Epoch 00011: val_loss improved from 0.00275 to 0.00273, saving model to 9_checkpoint_test.keras\n",
      "Epoch 12/1000\n",
      "50/50 [==============================] - 17s 350ms/step - loss: 0.0022 - val_loss: 0.0027\n",
      "\n",
      "Epoch 00012: val_loss improved from 0.00273 to 0.00271, saving model to 9_checkpoint_test.keras\n",
      "Epoch 13/1000\n",
      "50/50 [==============================] - 18s 350ms/step - loss: 0.0021 - val_loss: 0.0027\n",
      "\n",
      "Epoch 00013: val_loss improved from 0.00271 to 0.00268, saving model to 9_checkpoint_test.keras\n",
      "Epoch 14/1000\n",
      "50/50 [==============================] - 18s 350ms/step - loss: 0.0021 - val_loss: 0.0027\n",
      "\n",
      "Epoch 00014: val_loss improved from 0.00268 to 0.00267, saving model to 9_checkpoint_test.keras\n",
      "Epoch 15/1000\n",
      "50/50 [==============================] - 18s 350ms/step - loss: 0.0021 - val_loss: 0.0027\n",
      "\n",
      "Epoch 00015: val_loss improved from 0.00267 to 0.00266, saving model to 9_checkpoint_test.keras\n",
      "Epoch 16/1000\n",
      "50/50 [==============================] - 18s 351ms/step - loss: 0.0021 - val_loss: 0.0026\n",
      "\n",
      "Epoch 00016: val_loss improved from 0.00266 to 0.00263, saving model to 9_checkpoint_test.keras\n",
      "Epoch 17/1000\n",
      "50/50 [==============================] - 18s 351ms/step - loss: 0.0021 - val_loss: 0.0026\n",
      "\n",
      "Epoch 00017: val_loss improved from 0.00263 to 0.00262, saving model to 9_checkpoint_test.keras\n",
      "Epoch 18/1000\n",
      "50/50 [==============================] - 18s 350ms/step - loss: 0.0020 - val_loss: 0.0026\n",
      "\n",
      "Epoch 00018: val_loss improved from 0.00262 to 0.00260, saving model to 9_checkpoint_test.keras\n",
      "Epoch 19/1000\n",
      "50/50 [==============================] - 18s 351ms/step - loss: 0.0020 - val_loss: 0.0026\n",
      "\n",
      "Epoch 00019: val_loss improved from 0.00260 to 0.00258, saving model to 9_checkpoint_test.keras\n",
      "Epoch 20/1000\n",
      "50/50 [==============================] - 18s 350ms/step - loss: 0.0020 - val_loss: 0.0026\n",
      "\n",
      "Epoch 00020: val_loss improved from 0.00258 to 0.00257, saving model to 9_checkpoint_test.keras\n",
      "Epoch 21/1000\n",
      "50/50 [==============================] - 18s 351ms/step - loss: 0.0020 - val_loss: 0.0026\n",
      "\n",
      "Epoch 00021: val_loss improved from 0.00257 to 0.00257, saving model to 9_checkpoint_test.keras\n",
      "Epoch 22/1000\n",
      "50/50 [==============================] - 18s 350ms/step - loss: 0.0019 - val_loss: 0.0026\n",
      "\n",
      "Epoch 00022: val_loss did not improve from 0.00257\n",
      "Epoch 23/1000\n",
      "50/50 [==============================] - 18s 351ms/step - loss: 0.0019 - val_loss: 0.0026\n",
      "\n",
      "Epoch 00023: val_loss improved from 0.00257 to 0.00255, saving model to 9_checkpoint_test.keras\n",
      "Epoch 24/1000\n",
      "50/50 [==============================] - 18s 351ms/step - loss: 0.0019 - val_loss: 0.0026\n",
      "\n",
      "Epoch 00024: val_loss did not improve from 0.00255\n",
      "Epoch 25/1000\n",
      "50/50 [==============================] - 18s 350ms/step - loss: 0.0019 - val_loss: 0.0026\n",
      "\n",
      "Epoch 00025: val_loss did not improve from 0.00255\n",
      "Epoch 26/1000\n",
      "50/50 [==============================] - 18s 351ms/step - loss: 0.0019 - val_loss: 0.0026\n",
      "\n",
      "Epoch 00026: val_loss did not improve from 0.00255\n",
      "Epoch 27/1000\n",
      "50/50 [==============================] - 18s 351ms/step - loss: 0.0018 - val_loss: 0.0026\n",
      "\n",
      "Epoch 00027: val_loss did not improve from 0.00255\n",
      "Epoch 28/1000\n",
      "50/50 [==============================] - 18s 351ms/step - loss: 0.0018 - val_loss: 0.0026\n",
      "\n",
      "Epoch 00028: val_loss improved from 0.00255 to 0.00255, saving model to 9_checkpoint_test.keras\n",
      "Epoch 29/1000\n",
      "50/50 [==============================] - 18s 351ms/step - loss: 0.0018 - val_loss: 0.0026\n",
      "\n",
      "Epoch 00029: val_loss did not improve from 0.00255\n",
      "Epoch 30/1000\n",
      "50/50 [==============================] - 18s 351ms/step - loss: 0.0018 - val_loss: 0.0026\n",
      "\n",
      "Epoch 00030: val_loss did not improve from 0.00255\n",
      "Epoch 31/1000\n",
      "50/50 [==============================] - 18s 351ms/step - loss: 0.0018 - val_loss: 0.0026\n",
      "\n",
      "Epoch 00031: val_loss did not improve from 0.00255\n",
      "Epoch 32/1000\n",
      "50/50 [==============================] - 18s 351ms/step - loss: 0.0017 - val_loss: 0.0026\n",
      "\n",
      "Epoch 00032: val_loss did not improve from 0.00255\n",
      "Epoch 33/1000\n",
      "50/50 [==============================] - 18s 350ms/step - loss: 0.0017 - val_loss: 0.0026\n",
      "\n",
      "Epoch 00033: val_loss did not improve from 0.00255\n",
      "Epoch 00033: early stopping\n",
      "CPU times: user 13min 39s, sys: 1min 3s, total: 14min 42s\n",
      "Wall time: 9min 40s\n"
     ]
    },
    {
     "data": {
      "text/plain": [
       "<keras.callbacks.callbacks.History at 0x7fd314076f10>"
      ]
     },
     "execution_count": 43,
     "metadata": {},
     "output_type": "execute_result"
    }
   ],
   "source": [
    "%%time\n",
    "model.fit_generator(generator=generator,\n",
    "                    epochs=1000,\n",
    "                    steps_per_epoch=50,\n",
    "                    validation_data=validation_data,\n",
    "                    callbacks=callbacks)"
   ]
  },
  {
   "cell_type": "code",
   "execution_count": 44,
   "metadata": {},
   "outputs": [],
   "source": [
    "try:\n",
    "    model.load_weights(path_checkpoint)\n",
    "except Exception as error:\n",
    "    print(\"Error trying to load checkpoint.\")\n",
    "    print(error)"
   ]
  },
  {
   "cell_type": "code",
   "execution_count": 45,
   "metadata": {},
   "outputs": [
    {
     "name": "stdout",
     "output_type": "stream",
     "text": [
      "\r",
      "1/1 [==============================] - 0s 145ms/step\n"
     ]
    }
   ],
   "source": [
    "result = model.evaluate(x=np.expand_dims(inData_test[0], axis=0),\n",
    "                        y=np.expand_dims(outData_test[0], axis=0))"
   ]
  },
  {
   "cell_type": "code",
   "execution_count": 46,
   "metadata": {},
   "outputs": [
    {
     "name": "stdout",
     "output_type": "stream",
     "text": [
      "loss (test-set): 0.002553283702582121\n"
     ]
    }
   ],
   "source": [
    "print(\"loss (test-set):\", result)"
   ]
  },
  {
   "cell_type": "code",
   "execution_count": 47,
   "metadata": {},
   "outputs": [],
   "source": [
    "def plot_comparison(start_idx, length=100, train=True):\n",
    "    \"\"\"\n",
    "    Plot the predicted and true output-signals.\n",
    "    \n",
    "    :param start_idx: Start-index for the time-series.\n",
    "    :param length: Sequence-length to process and plot.\n",
    "    :param train: Boolean whether to use training- or test-set.\n",
    "    \"\"\"\n",
    "    \n",
    "    if train:\n",
    "        # Use training-data.\n",
    "        x = inData_train[0]\n",
    "        y_true = outData_train[0]\n",
    "    else:\n",
    "        # Use test-data.\n",
    "        x = inData_test[0]\n",
    "        y_true = outData_test[0]\n",
    "    \n",
    "    # End-index for the sequences.\n",
    "    end_idx = start_idx + length\n",
    "    \n",
    "    # Select the sequences from the given start-index and\n",
    "    # of the given length.\n",
    "    x = x[start_idx:end_idx]\n",
    "    y_true = y_true[start_idx:end_idx]\n",
    "    \n",
    "    # Input-signals for the model.\n",
    "    x = np.expand_dims(x, axis=0)\n",
    "\n",
    "    # Use the model to predict the output-signals.\n",
    "    y_pred = model.predict(x)\n",
    "    print(shape(x))\n",
    "    print(shape(y_pred))\n",
    "        \n",
    "    # Get the output-signal predicted by the model.\n",
    "    signal_pred = y_pred\n",
    "        \n",
    "    # Get the true output-signal from the data-set.\n",
    "    signal_true = y_true\n",
    "    \n",
    "    # Make the plotting-canvas bigger.\n",
    "    plt.figure(figsize=(15,5))\n",
    "        \n",
    "    # Plot and compare the two signals.\n",
    "    plt.plot(signal_true, label='true')\n",
    "    plt.scatter(np.arange(0, len(signal_pred[0])), signal_pred[0], label='pred', color='r')\n",
    "\n",
    "        \n",
    "    # Plot labels etc.\n",
    "    plt.legend()\n",
    "    plt.show()"
   ]
  },
  {
   "cell_type": "code",
   "execution_count": 48,
   "metadata": {},
   "outputs": [
    {
     "name": "stdout",
     "output_type": "stream",
     "text": [
      "(1, 200, 11)\n",
      "(1, 200, 1)\n"
     ]
    },
    {
     "data": {
      "image/png": "[encoded data removed]",
      "text/plain": [
       "<Figure size 1080x360 with 1 Axes>"
      ]
     },
     "metadata": {
      "needs_background": "light"
     },
     "output_type": "display_data"
    }
   ],
   "source": [
    "plot_comparison(start_idx=0, length=200, train=False)\n"
   ]
  },
  {
   "cell_type": "code",
   "execution_count": 51,
   "metadata": {},
   "outputs": [],
   "source": [
    "def performOfSamplePrediction(outOfSampleCount):\n",
    "    prediction = np.zeros(0)\n",
    "    sequence_length_for_predict = sequence_length\n",
    "    predictBase = np.zeros((1, sequence_length_for_predict, num_inData_signals))\n",
    "    Modes = Mode[-(sequence_length_for_predict + cutFromTail): -cutFromTail] / 4.0\n",
    "    predictBase[0,:,0] = Modes\n",
    "    predictBase[0,:,1:] = sT[-(sequence_length_for_predict + cutFromTail): -cutFromTail,:]\n",
    "    hiddenOutput = np.zeros((1, sequence_length_for_predict, num_outData_signals))\n",
    "    for step in range(0,outOfSampleCount, predictSteps):\n",
    "        hiddenOutput = model.predict(predictBase)\n",
    "        plt.figure(figsize=(15,1))\n",
    "        plt.plot(sT[-(sequence_length_for_predict + cutFromTail):,outputBlockId])\n",
    "        plt.scatter(np.arange(step, len(hiddenOutput[0])+step), hiddenOutput[0,:,0], color='r', marker='.')\n",
    "        tmpModes = Modes[0:predictSteps]\n",
    "        Modes[0:-predictSteps] = Modes[predictSteps:]\n",
    "        Modes[-predictSteps:0] = tmpModes\n",
    "        predictBase[0,:,0] = Modes"
   ]
  },
  {
   "cell_type": "code",
   "execution_count": 52,
   "metadata": {},
   "outputs": [
    {
     "data": {
      "image/png": "[encoded data removed]",
      "text/plain": [
       "<Figure size 1080x72 with 1 Axes>"
      ]
     },
     "metadata": {
      "needs_background": "light"
     },
     "output_type": "display_data"
    },
    {
     "data": {
      "image/png": "[encoded data removed]",
      "text/plain": [
       "<Figure size 1080x72 with 1 Axes>"
      ]
     },
     "metadata": {
      "needs_background": "light"
     },
     "output_type": "display_data"
    },
    {
     "data": {
      "image/png": "[encoded data removed]",
      "text/plain": [
       "<Figure size 1080x72 with 1 Axes>"
      ]
     },
     "metadata": {
      "needs_background": "light"
     },
     "output_type": "display_data"
    }
   ],
   "source": [
    "performOfSamplePrediction(3)"
   ]
  },
  {
   "cell_type": "code",
   "execution_count": null,
   "metadata": {},
   "outputs": [],
   "source": []
  },
  {
   "cell_type": "code",
   "execution_count": null,
   "metadata": {},
   "outputs": [],
   "source": []
  },
  {
   "cell_type": "code",
   "execution_count": null,
   "metadata": {},
   "outputs": [],
   "source": []
  }
 ],
 "metadata": {
  "kernelspec": {
   "display_name": "Python 3",
   "language": "python",
   "name": "python3"
  },
  "language_info": {
   "codemirror_mode": {
    "name": "ipython",
    "version": 3
   },
   "file_extension": ".py",
   "mimetype": "text/x-python",
   "name": "python",
   "nbconvert_exporter": "python",
   "pygments_lexer": "ipython3",
   "version": "3.7.6"
  }
 },
 "nbformat": 4,
 "nbformat_minor": 4
}
